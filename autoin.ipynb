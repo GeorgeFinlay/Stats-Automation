{
  "nbformat": 4,
  "nbformat_minor": 0,
  "metadata": {
    "colab": {
      "name": "Ingest Automation",
      "provenance": [],
      "collapsed_sections": [],
      "mount_file_id": "1WxBn3t5S6G0s825aAhWbV_zUQkS-RaF8",
      "authorship_tag": "ABX9TyNcYgqsr2B+aRY8XJfjZM3e",
      "include_colab_link": true
    },
    "kernelspec": {
      "name": "python3",
      "display_name": "Python 3"
    }
  },
  "cells": [
    {
      "cell_type": "markdown",
      "metadata": {
        "id": "view-in-github",
        "colab_type": "text"
      },
      "source": [
        "<a href=\"https://colab.research.google.com/github/GeorgeFinlay/Stats-Automation/blob/main/Ingest_Automation.ipynb\" target=\"_parent\"><img src=\"https://colab.research.google.com/assets/colab-badge.svg\" alt=\"Open In Colab\"/></a>"
      ]
    },
    {
      "cell_type": "code",
      "metadata": {
        "id": "O7RqFNRlj4xr"
      },
      "source": [
        "import pandas as pd\r\n",
        "import re\r\n",
        "\r\n",
        "def ingest(file_name):\r\n",
        "    filename = re.compile(r'https://')\r\n",
        "    mo = filename.search()\r\n",
        "    if file_name.endswith('.csv'):\r\n",
        "        df = pd.read_csv(file_name)\r\n",
        "    elif file_name.endswith('.xls') or file_name.endswith('.xlx'):\r\n",
        "        df = pd.read_excel(file_name)\r\n",
        "    elif mo.group() is not None:\r\n",
        "        df = pd.read_html(file_name)\r\n",
        "    else:\r\n",
        "        return \"File not in correct format\"\r\n",
        "    return df\r\n"
      ],
      "execution_count": 1,
      "outputs": []
    }
  ]
}
